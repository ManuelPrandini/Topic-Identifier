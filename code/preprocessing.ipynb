{
 "cells": [
  {
   "cell_type": "code",
   "execution_count": 53,
   "metadata": {},
   "outputs": [],
   "source": [
    "import networkx as net\n",
    "import re \n",
    "import os"
   ]
  },
  {
   "cell_type": "code",
   "execution_count": 49,
   "metadata": {},
   "outputs": [],
   "source": [
    "#Define paths\n",
    "path_ds1 = \"../resources/dataset/ds-1.tsv\"\n",
    "path_ds2 = \"../resources/dataset/ds-2.tsv\"\n",
    "clean_ds1 = \"../resources/dataset/clean_ds-1.tsv\"\n",
    "clean_ds2 = \"../resources/dataset/clean_ds-2.tsv\"\n",
    "folder_ds1 = \"../resources/dataset/years_ds1\"\n",
    "folder_ds2 = \"../resources/dataset/years_ds2\""
   ]
  },
  {
   "cell_type": "code",
   "execution_count": 29,
   "metadata": {},
   "outputs": [],
   "source": [
    "def clean_datasets():\n",
    "    regex = re.compile(r'20((0[0-9])|(1[0-8]))')\n",
    "    #clean ds1\n",
    "    with open(path_ds1,'r',encoding='utf-8') as r_ds1:\n",
    "        with open(clean_ds1,'w',encoding='utf-8') as w_ds1:\n",
    "            for line in r_ds1:\n",
    "                line_splitted = line.split('\\t')\n",
    "                #check if the line is wrong\n",
    "                if(regex.match(line_splitted[0]) and not \"?\" in line_splitted[1] \n",
    "                   and not \"?\" in line_splitted[2]):\n",
    "                    w_ds1.write(line)\n",
    "            w_ds1.close()\n",
    "        r_ds1.close()\n",
    "    #clean ds2\n",
    "    with open(path_ds2,'r',encoding='utf-8') as r_ds2:\n",
    "        with open(clean_ds2,'w',encoding='utf-8') as w_ds2:\n",
    "            for line in r_ds2:\n",
    "                line_splitted = line.split('\\t')\n",
    "                #check if the year is wrong\n",
    "                if(regex.match(line_splitted[0])):\n",
    "                    w_ds2.write(line)\n",
    "            w_ds2.close()\n",
    "        r_ds2.close()\n",
    "                    \n",
    "                \n",
    "                "
   ]
  },
  {
   "cell_type": "code",
   "execution_count": 56,
   "metadata": {},
   "outputs": [],
   "source": [
    "def generate_files():\n",
    "    #create folders for separate years files\n",
    "    if not os.path.exists(folder_ds1) and not os.path.exists(folder_ds2):\n",
    "        os.makedirs(folder_ds1)\n",
    "        os.makedirs(folder_ds2)\n",
    "    #generate years_map of ds1\n",
    "    ds1_map = group_line_by_year(clean_ds1)\n",
    "    #generate years_map of ds2\n",
    "    ds2_map = group_line_by_year(clean_ds2)\n",
    "    \n",
    "    #create files for ds1\n",
    "    for k in ds1_map.keys():\n",
    "        with open(folder_ds1+k+\"_ds1.tsv\",'w') as f:\n",
    "            for line in ds1_map[k]:\n",
    "                f.write(line)\n",
    "            f.close()\n",
    "            \n",
    "    #create files for ds2\n",
    "    for k in ds2_map.keys():\n",
    "        with open(folder_ds2+k+\"_ds2.tsv\",'w') as f:\n",
    "            for line in ds2_map[k]:\n",
    "                f.write(line)\n",
    "            f.close()"
   ]
  },
  {
   "cell_type": "code",
   "execution_count": 42,
   "metadata": {},
   "outputs": [],
   "source": [
    "def group_line_by_year(file):\n",
    "    lines_by_year = dict()\n",
    "    with open(file,'r') as f:\n",
    "        for line in f:\n",
    "            line_splitted = line.split('\\t')\n",
    "            if(line_splitted[0] not in lines_by_year):\n",
    "                lines_by_year[line_splitted[0]] = []\n",
    "            lines_by_year[line_splitted[0]].append(line_splitted[1]+'\\t'+line_splitted[2]+'\\t'+line_splitted[3])\n",
    "    f.close()\n",
    "    return lines_by_year\n",
    "        "
   ]
  },
  {
   "cell_type": "code",
   "execution_count": 30,
   "metadata": {},
   "outputs": [],
   "source": [
    "clean_datasets()"
   ]
  },
  {
   "cell_type": "code",
   "execution_count": 57,
   "metadata": {},
   "outputs": [],
   "source": [
    "generate_files()"
   ]
  }
 ],
 "metadata": {
  "kernelspec": {
   "display_name": "Python 3",
   "language": "python",
   "name": "python3"
  },
  "language_info": {
   "codemirror_mode": {
    "name": "ipython",
    "version": 3
   },
   "file_extension": ".py",
   "mimetype": "text/x-python",
   "name": "python",
   "nbconvert_exporter": "python",
   "pygments_lexer": "ipython3",
   "version": "3.6.5"
  }
 },
 "nbformat": 4,
 "nbformat_minor": 2
}
